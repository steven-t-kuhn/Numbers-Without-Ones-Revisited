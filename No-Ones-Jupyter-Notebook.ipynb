{
 "cells": [
  {
   "cell_type": "markdown",
   "metadata": {},
   "source": [
    "## Introduction\n",
    "\n",
    "This notebook contains Julia code used to generate examples and tables in the article \"Numbers Without Ones (Revisited)\", *Recreational Mathematics Magazine* (forthcoming 2023).\n",
  },
   {
   "cell_type": "markdown",
   "metadata": {},
   "source": [
    "## Level Finding\n",
    "\n",
    "An integer is *one-free* if none of its digits is 1. The *level* of a positive integer n is the smallest positive integer m such that n*m is one-free. The following cell defines a function that (by brute force) calculates the level of m if that level is less than some maximum value. If the level of n is undefined or exceeds the maximum value the function returns \"error\"."
   ]
  },
  {
   "cell_type": "code",
   "execution_count": 1,
   "metadata": {},
   "outputs": [
    {
     "data": {
      "text/plain": [
       "level (generic function with 1 method)"
      ]
     },
     "execution_count": 1,
     "metadata": {},
     "output_type": "execute_result"
    }
   ],
   "source": [
    "function level(n, maxleveltest)\n",
    "    # inputs:\n",
    "    #    n - the positive integer whose level we seek\n",
    "    #    maxleveltest - the largest positive integer we will test\n",
    "    # output:\n",
    "    #    the level of n, if it <= maxleveltest\n",
    "    #    \"error\", otherwise\n",
    "    for i in 1:maxleveltest\n",
    "        if occursin('1', string(i*n)) == false \n",
    "            return i\n",
    "        end\n",
    "    end\n",
    "return \"error\"\n",
    "end"
   ]
  },
  {
   "cell_type": "code",
   "execution_count": 2,
   "metadata": {},
   "outputs": [
    {
     "name": "stdout",
     "output_type": "stream",
     "text": [
      "[2, 1, 1, 1, 1, 1, 1, 1, 1, 2, 2, 2, 2, 2, 2, 2, 2, 2, 2, 1]\n"
     ]
    }
   ],
   "source": [
    "maxleveltest = 100  # We know that every number < 200 has a 1-eliminating multiplier < 50 if it has any\n",
    "\n",
    "level_array(n::Integer, maxleveltest) = [level(i, maxleveltest) for i in 1:n]\n",
    "println(level_array(20, maxleveltest))"
   ]
  },
  {
   "cell_type": "markdown",
   "metadata": {},
   "source": [
    "## Crelle Multipliers\n",
    "\n",
    "The `Crelle multiplier` of a positive integer `k` is the smallest 1-free multiplier of `k` found by comparing repetitions of 2’s."
   ]
  },
  {
   "cell_type": "code",
   "execution_count": 3,
   "metadata": {},
   "outputs": [
    {
     "data": {
      "text/plain": [
       "twos_number (generic function with 1 method)"
      ]
     },
     "execution_count": 3,
     "metadata": {},
     "output_type": "execute_result"
    }
   ],
   "source": [
    "function twos_number(n)\n",
    "    # input:\n",
    "    #    n - a positive integer\n",
    "    # output:\n",
    "    #    the value of a string of n copies of the digit 2 in base ten\n",
    "    if n==1\n",
    "        return 2\n",
    "    else\n",
    "        return 2*big(10)^(n-1) + twos_number(n-1)  # 10^n does not work for n>22 so use \"big\"\n",
    "    end\n",
    "end"
   ]
  },
  {
   "cell_type": "code",
   "execution_count": 4,
   "metadata": {},
   "outputs": [
    {
     "data": {
      "text/plain": [
       "crelle_product (generic function with 1 method)"
      ]
     },
     "execution_count": 4,
     "metadata": {},
     "output_type": "execute_result"
    }
   ],
   "source": [
    "function crelle_product(k::Integer)\n",
    "    # input:\n",
    "    #    k - a positive integer\n",
    "    # output:\n",
    "    #    k times the Crelle multiplier of k\n",
    "    for i in 2:k+1     # i is the longer sequence\n",
    "        for j in i-1:-1:1    # j is the shorter sequence. We go backwards to check smaller differences before larger    \n",
    "            if mod(twos_number(i),k)== mod(twos_number(j),k)\n",
    "                return (twos_number(i)-twos_number(j))\n",
    "            end\n",
    "        end\n",
    "    end    \n",
    "end  "
   ]
  },
  {
   "cell_type": "code",
   "execution_count": 5,
   "metadata": {},
   "outputs": [
    {
     "name": "stdout",
     "output_type": "stream",
     "text": [
      "BigInt[20, 10, 740, 5, 4, 370, 317460, 25, 246913580, 2, 20, 185, 170940, 158730, 148, 125, 1307189542483660, 123456790, 116959064327485380, 1]\n"
     ]
    }
   ],
   "source": [
    "crelle_multiplier(k::Integer) = div(crelle_product(k),k)\n",
    "raw_c_array(n::Integer) = [crelle_multiplier(i) for i in 1:n]\n",
    "println(raw_c_array(20))"
   ]
  },
  {
   "cell_type": "markdown",
   "metadata": {},
   "source": [
    "## Crelle Bound\n",
    "\n",
    "There is a quick method for finding an upper bound for `Crelle multipliers`. These bound are called `Crelle bounds`."
   ]
  },
  {
   "cell_type": "code",
   "execution_count": 6,
   "metadata": {},
   "outputs": [
    {
     "data": {
      "text/plain": [
       "r_c_bound (generic function with 1 method)"
      ]
     },
     "execution_count": 6,
     "metadata": {},
     "output_type": "execute_result"
    }
   ],
   "source": [
    "c = 2+2/9 # coefficient for Crelle bound\n",
    "c_bound(k) = (c*(1/k)*big(10)^k-2/k)\n",
    "\n",
    "function r_c_bound(k)\n",
    "    # input:\n",
    "    #    k - a positive integer\n",
    "    # output:\n",
    "    #    the (rounded) Crelle bound of k\n",
    "    if k == 1  \n",
    "        return 20.2\n",
    "    elseif k == 20  \n",
    "        return 20.2\n",
    "    else\n",
    "        return round(c_bound(k), sigdigits =3)\n",
    "    end\n",
    "end"
   ]
  },
  {
   "cell_type": "code",
   "execution_count": 7,
   "metadata": {},
   "outputs": [
    {
     "name": "stdout",
     "output_type": "stream",
     "text": [
      "AbstractFloat[20.2, 110.0, 740.0, 5560.0, 44400.0, 370000.0, 3.17e+06, 2.78e+07, 2.47e+08, 2.22e+09, 2.02e+10, 1.85e+11, 1.71e+12, 1.59e+13, 1.48e+14, 1.39e+15, 1.31e+16, 1.23e+17, 1.17e+18, 20.2, 1.06e+20, 1.01e+21, 9.66e+21, 9.26e+22, 8.89e+23]\n"
     ]
    }
   ],
   "source": [
    "r_cb_array(n) =[r_c_bound(i) for i in 1:n]\n",
    "println(r_cb_array(25))"
   ]
  },
  {
   "cell_type": "markdown",
   "metadata": {},
   "source": [
    "## Inspect Results"
   ]
  },
  {
   "cell_type": "code",
   "execution_count": 8,
   "metadata": {},
   "outputs": [
    {
     "name": "stdout",
     "output_type": "stream",
     "text": [
      "┌────────┬──────────────────┬───────────────────────┬──────────────┐\n",
      "│\u001b[1m Number \u001b[0m│\u001b[1m Least Multiplier \u001b[0m│\u001b[1m     Crelle Multiplier \u001b[0m│\u001b[1m Crelle Bound \u001b[0m│\n",
      "├────────┼──────────────────┼───────────────────────┼──────────────┤\n",
      "│      1 │                2 │                    20 │         20.2 │\n",
      "│      2 │                1 │                    10 │        110.0 │\n",
      "│      3 │                1 │                   740 │        740.0 │\n",
      "│      4 │                1 │                     5 │       5560.0 │\n",
      "│      5 │                1 │                     4 │      44400.0 │\n",
      "│      6 │                1 │                   370 │     370000.0 │\n",
      "│      7 │                1 │                317460 │     3.17e+06 │\n",
      "│      8 │                1 │                    25 │     2.78e+07 │\n",
      "│      9 │                1 │             246913580 │     2.47e+08 │\n",
      "│     10 │                2 │                     2 │     2.22e+09 │\n",
      "│     11 │                2 │                    20 │     2.02e+10 │\n",
      "│     12 │                2 │                   185 │     1.85e+11 │\n",
      "│     13 │                2 │                170940 │     1.71e+12 │\n",
      "│     14 │                2 │                158730 │     1.59e+13 │\n",
      "│     15 │                2 │                   148 │     1.48e+14 │\n",
      "│     16 │                2 │                   125 │     1.39e+15 │\n",
      "│     17 │                2 │      1307189542483660 │     1.31e+16 │\n",
      "│     18 │                2 │             123456790 │     1.23e+17 │\n",
      "│     19 │                2 │    116959064327485380 │     1.17e+18 │\n",
      "│     20 │                1 │                     1 │         20.2 │\n",
      "│     21 │                2 │                105820 │     1.06e+20 │\n",
      "│     22 │                1 │                    10 │     1.01e+21 │\n",
      "│     23 │                1 │ 966183574879227053140 │     9.66e+21 │\n",
      "│     24 │                1 │                   925 │     9.26e+22 │\n",
      "│     25 │                1 │                     8 │     8.89e+23 │\n",
      "└────────┴──────────────────┴───────────────────────┴──────────────┘\n"
     ]
    }
   ],
   "source": [
    "using DataFrames\n",
    "using PrettyTables\n",
    "\n",
    "dict(n) = Dict(\"Number\"=>collect(1:n), \"Crelle Bound\"=>r_cb_array(n), \"Crelle Multiplier\"=>raw_c_array(n), \n",
    "    \"Least Multiplier\"=>level_array(n,50))\n",
    "\n",
    "df = DataFrame(dict(25))\n",
    "select!(df,[4,3,2,1])\n",
    "pretty_table(df, nosubheader=true)\n",
    "\n",
    "open(\"multiplier_table.pdf\", \"w\") do f\n",
    "    pretty_table(f, df, nosubheader=true)\n",
    "end\n"
   ]
  },
  {
   "cell_type": "code",
   "execution_count": 9,
   "metadata": {},
   "outputs": [
    {
     "name": "stdout",
     "output_type": "stream",
     "text": [
      "The crelle multiplier of 81 is 2.743484224965706447187928669410150891632373113854595336076817558299039780521267e+79\n",
      "The crelle bound of 81 is 2.74348422496570633344337153403103002347052097320556640625e+79\n"
     ]
    }
   ],
   "source": [
    "println(\"The crelle multiplier of 81 is \", float(crelle_multiplier(81)))\n",
    "println(\"The crelle bound of 81 is \", c_bound(81))"
   ]
  },
  {
   "cell_type": "markdown",
   "metadata": {},
   "source": [
    "## Find Exceptionally Large Levels and Crelle Multipliers"
   ]
  },
  {
   "cell_type": "code",
   "execution_count": 10,
   "metadata": {},
   "outputs": [
    {
     "name": "stdout",
     "output_type": "stream",
     "text": [
      "number 4580102 is of level 49\n",
      "number 4580201 is of level 49\n",
      "  4.245869 seconds (122.98 M allocations: 4.538 GiB, 13.18% gc time, 0.77% compilation time)\n"
     ]
    }
   ],
   "source": [
    "# Find all numbers between one and ten million with a level greater than 48.\n",
    "# (There are two.)\n",
    "\n",
    "@time begin\n",
    "    maxexemplartest = 10000000\n",
    "    maxleveltest =100\n",
    "    \n",
    "    for i in 1:maxexemplartest\n",
    "        if level(i, maxleveltest) == \"error\"\n",
    "            println(\"number \",i, \" is of level greater than \", maxleveltest)\n",
    "        elseif level(i, maxleveltest)>48\n",
    "            println(\"number \",i, \" is of level \", level(i,maxleveltest))\n",
    "        end\n",
    "    end\n",
    "end"
   ]
  },
  {
   "cell_type": "code",
   "execution_count": 11,
   "metadata": {},
   "outputs": [
    {
     "data": {
      "text/plain": [
       "224424998"
      ]
     },
     "execution_count": 11,
     "metadata": {},
     "output_type": "execute_result"
    }
   ],
   "source": [
    "# Check that the product above is ones-free\n",
    "\n",
    "4580102*49 "
   ]
  },
  {
   "cell_type": "code",
   "execution_count": 12,
   "metadata": {},
   "outputs": [
    {
     "name": "stdout",
     "output_type": "stream",
     "text": [
      " 16.950163 seconds (523.47 M allocations: 24.038 GiB, 21.07% gc time)\n"
     ]
    },
    {
     "data": {
      "text/plain": [
       "(98, 22900501)"
      ]
     },
     "execution_count": 12,
     "metadata": {},
     "output_type": "execute_result"
    }
   ],
   "source": [
    "# Find largest level for numbers up to one hundred million.\n",
    "\n",
    "@time begin\n",
    "   findmax(level_array(100000000,200))\n",
    "end"
   ]
  },
  {
   "cell_type": "code",
   "execution_count": 13,
   "metadata": {},
   "outputs": [
    {
     "name": "stdout",
     "output_type": "stream",
     "text": [
      "maxCrellpultiplier =22909507445589919816723940435280641466208476517754868270332187857961053837342497136311569301260\n",
      "exemplar = 97\n",
      "float of Crelle multiplier = 2.290950744558991981672394043528064146620847651775486827033218785796105383734257e+94\n",
      "Crelle product = 2222222222222222222222222222222222222222222222222222222222222222222222222222222222222222222222220\n",
      "  0.956452 seconds (18.65 M allocations: 395.935 MiB, 8.04% gc time, 3.44% compilation time)\n"
     ]
    }
   ],
   "source": [
    "# find the largest Crelle muliplier for numbers between 1 and 100\n",
    "\n",
    "@time begin\n",
    "   maxCrelle, exemplar =findmax(raw_c_array(100))\n",
    "   println(\"maxCrellpultiplier =\", maxCrelle)\n",
    "   println(\"exemplar = \", exemplar)\n",
    "   println(\"float of Crelle multiplier = \", float(maxCrelle))\n",
    "   println(\"Crelle product = \", maxCrelle*exemplar)\n",
    "end"
   ]
  },
  {
   "cell_type": "code",
   "execution_count": 14,
   "metadata": {},
   "outputs": [
    {
     "name": "stdout",
     "output_type": "stream",
     "text": [
      "maxCrellpultiplier =22606533288120266757092799819147733695037865943257601446818130439697072453939188425454956482423420368486492596360348140612637052108059229117214875098903583135526167062280999208771334915790663501752006329829320673674691985983949361365434610602464112128405109076523115180287102972759127387815078557703176217926980897479371538374590256584152820165027693003277947326777438679778455973776421385780490561772352209788628913756075505821182321690968689951395953430541426472250480388832372555668588221996156889341019554651294224030744885271843562789646207754040917825251497682830337967672657397988018537357296258618740816095851701141629931050073471233186390866960551599412230134508873064315587204702158923929015485475302362382728608567876116197581100938171131456991070419351192494630948344071436645190460042952413247428506838476319656380694020571945292189442748954447835424437662484458008364417316604498700124335933084661467164010399005312535322708262687916807957499717418333898496665536340\n",
      "exemplar = 983\n",
      "float of Crelle multiplier = 2.260653328812026675709279981914773369503786594325760144681813043969707245393916e+979\n",
      "Crelle product = 22222222222222222222222222222222222222222222222222222222222222222222222222222222222222222222222222222222222222222222222222222222222222222222222222222222222222222222222222222222222222222222222222222222222222222222222222222222222222222222222222222222222222222222222222222222222222222222222222222222222222222222222222222222222222222222222222222222222222222222222222222222222222222222222222222222222222222222222222222222222222222222222222222222222222222222222222222222222222222222222222222222222222222222222222222222222222222222222222222222222222222222222222222222222222222222222222222222222222222222222222222222222222222222222222222222222222222222222222222222222222222222222222222222222222222222222222222222222222222222222222222222222222222222222222222222222222222222222222222222222222222222222222222222222222222222222222222222222222222222222222222222222222222222222222222222222222222222222222222222222222222222222222222222222222222222222222222222222222222222222222222222222222222222220\n",
      "11097.114689 seconds (116.37 G allocations: 5.035 TiB, 20.79% gc time)\n"
     ]
    }
   ],
   "source": [
    "# find the largest Crelle muliplier for numbers between 1 and 1000\n",
    "\n",
    "@time begin\n",
    "   maxCrelle, exemplar =findmax(raw_c_array(1000))\n",
    "   println(\"maxCrellpultiplier =\", maxCrelle)\n",
    "   println(\"exemplar = \", exemplar)\n",
    "   println(\"float of Crelle multiplier = \", float(maxCrelle))\n",
    "   println(\"Crelle product = \", maxCrelle*exemplar)\n",
    "end"
   ]
  },
  {
   "cell_type": "markdown",
   "metadata": {},
   "source": [
    "## Find the Smallest Integers of a Given Level"
   ]
  },
  {
   "cell_type": "code",
   "execution_count": 15,
   "metadata": {},
   "outputs": [
    {
     "data": {
      "text/plain": [
       "minat (generic function with 1 method)"
      ]
     },
     "execution_count": 15,
     "metadata": {},
     "output_type": "execute_result"
    }
   ],
   "source": [
    "function minat(n, maxexemplartest)\n",
    "    # inputs:\n",
    "    #    n - a positive integer\n",
    "    #    maxexemplartest - the largest positive integer we will test\n",
    "    # output:\n",
    "    #    the smallest number of level n if one smaller than maxexmplartest exits;\n",
    "    #               otherwise returns \"none less than maxexemplartest\" \n",
    "\n",
    "    if n % 10  == 0        # Since we know numbers ending in 0 are not levels, it saves time to say this now.\n",
    "        return \"none\"\n",
    "    else\n",
    "       for i in 1:maxexemplartest\n",
    "           if level(i,maxexemplartest) == n\n",
    "               return i\n",
    "           end\n",
    "       end\n",
    "    end\n",
    "return \"none less than maxexemplartest\"\n",
    "end"
   ]
  },
  {
   "cell_type": "code",
   "execution_count": 16,
   "metadata": {},
   "outputs": [
    {
     "name": "stdout",
     "output_type": "stream",
     "text": [
      "least exemplar of level 49 = 4580102\n",
      "least exemplar of level 59 = none less than maxexemplartest\n"
     ]
    }
   ],
   "source": [
    "println(\"least exemplar of level 49 = \", minat(49,maxexemplartest))\n",
    "println(\"least exemplar of level 59 = \", minat(59,maxexemplartest))"
   ]
  },
  {
   "cell_type": "code",
   "execution_count": 17,
   "metadata": {},
   "outputs": [
    {
     "name": "stdout",
     "output_type": "stream",
     "text": [
      "Any[2, 1, 81, 51, 531, 5421, 3157, 2571, 25517, \"none\", 25157, 20531, 26571, 143053, 15703, 130305, 140257, 125703, 105302, \"none\", 109027, 91027, 90271, 102053, 839031, 7701303, 7428017, 7142859, 701303, \"none\", 6516354, 6253014, 6253013, 5890103, 5780102, 5701027, 5420102, 540102, 530102, \"none\", 5010268, 5240103, 5130103, 4550102, 4570102, 5010269, 5026901, 43008018, 4580102, \"none\", 40050102, 39005301, 39008631, 38008513, 37007018, 36513007, 35131007, 35007013, 50251301, \"none\", 328007013, 40060201, 321006015, 32006013, 40050201, 303900501, 30200501, 30050102, 30050201, \"none\", 290050102, 277890051, 274006012, 270900501, 30134006, 26800501, 260050102, 30060134, 257700501, \"none\", 250050102, 244005301, 241005401, 239005301, 24005401, 232900501, 231004009, 227900501, 229100501, \"none\", 2200400915, 240060301, 220045801, 2130040501, 2110040084, 229900501, 210045801, 22900501, 210043008, \"none\"]\n",
      "2388.663401 seconds (79.58 G allocations: 3.468 TiB, 19.12% gc time, 0.01% compilation time)\n"
     ]
    }
   ],
   "source": [
    "@time begin\n",
    "   minat_array = [minat(i,10000000000) for i in 1:100]\n",
    "   println(minat_array)\n",
    "end"
   ]
  },
  {
   "cell_type": "code",
   "execution_count": 18,
   "metadata": {},
   "outputs": [
    {
     "data": {
      "text/html": [
       "<div><div style = \"float: left;\"><span>100×2 DataFrame</span></div><div style = \"float: right;\"><span style = \"font-style: italic;\">75 rows omitted</span></div><div style = \"clear: both;\"></div></div><div class = \"data-frame\" style = \"overflow-x: scroll;\"><table class = \"data-frame\" style = \"margin-bottom: 6px;\"><thead><tr class = \"header\"><th class = \"rowNumber\" style = \"font-weight: bold; text-align: right;\">Row</th><th style = \"text-align: left;\">Level</th><th style = \"text-align: left;\">Least_Exemplar</th></tr><tr class = \"subheader headerLastRow\"><th class = \"rowNumber\" style = \"font-weight: bold; text-align: right;\"></th><th title = \"Int64\" style = \"text-align: left;\">Int64</th><th title = \"Any\" style = \"text-align: left;\">Any</th></tr></thead><tbody><tr><td class = \"rowNumber\" style = \"font-weight: bold; text-align: right;\">1</td><td style = \"text-align: right;\">1</td><td style = \"text-align: left;\">2</td></tr><tr><td class = \"rowNumber\" style = \"font-weight: bold; text-align: right;\">2</td><td style = \"text-align: right;\">2</td><td style = \"text-align: left;\">1</td></tr><tr><td class = \"rowNumber\" style = \"font-weight: bold; text-align: right;\">3</td><td style = \"text-align: right;\">3</td><td style = \"text-align: left;\">81</td></tr><tr><td class = \"rowNumber\" style = \"font-weight: bold; text-align: right;\">4</td><td style = \"text-align: right;\">4</td><td style = \"text-align: left;\">51</td></tr><tr><td class = \"rowNumber\" style = \"font-weight: bold; text-align: right;\">5</td><td style = \"text-align: right;\">5</td><td style = \"text-align: left;\">531</td></tr><tr><td class = \"rowNumber\" style = \"font-weight: bold; text-align: right;\">6</td><td style = \"text-align: right;\">6</td><td style = \"text-align: left;\">5421</td></tr><tr><td class = \"rowNumber\" style = \"font-weight: bold; text-align: right;\">7</td><td style = \"text-align: right;\">7</td><td style = \"text-align: left;\">3157</td></tr><tr><td class = \"rowNumber\" style = \"font-weight: bold; text-align: right;\">8</td><td style = \"text-align: right;\">8</td><td style = \"text-align: left;\">2571</td></tr><tr><td class = \"rowNumber\" style = \"font-weight: bold; text-align: right;\">9</td><td style = \"text-align: right;\">9</td><td style = \"text-align: left;\">25517</td></tr><tr><td class = \"rowNumber\" style = \"font-weight: bold; text-align: right;\">10</td><td style = \"text-align: right;\">10</td><td style = \"text-align: left;\">none</td></tr><tr><td class = \"rowNumber\" style = \"font-weight: bold; text-align: right;\">11</td><td style = \"text-align: right;\">11</td><td style = \"text-align: left;\">25157</td></tr><tr><td class = \"rowNumber\" style = \"font-weight: bold; text-align: right;\">12</td><td style = \"text-align: right;\">12</td><td style = \"text-align: left;\">20531</td></tr><tr><td class = \"rowNumber\" style = \"font-weight: bold; text-align: right;\">13</td><td style = \"text-align: right;\">13</td><td style = \"text-align: left;\">26571</td></tr><tr><td style = \"text-align: right;\">&vellip;</td><td style = \"text-align: right;\">&vellip;</td><td style = \"text-align: right;\">&vellip;</td></tr><tr><td class = \"rowNumber\" style = \"font-weight: bold; text-align: right;\">89</td><td style = \"text-align: right;\">89</td><td style = \"text-align: left;\">229100501</td></tr><tr><td class = \"rowNumber\" style = \"font-weight: bold; text-align: right;\">90</td><td style = \"text-align: right;\">90</td><td style = \"text-align: left;\">none</td></tr><tr><td class = \"rowNumber\" style = \"font-weight: bold; text-align: right;\">91</td><td style = \"text-align: right;\">91</td><td style = \"text-align: left;\">2200400915</td></tr><tr><td class = \"rowNumber\" style = \"font-weight: bold; text-align: right;\">92</td><td style = \"text-align: right;\">92</td><td style = \"text-align: left;\">240060301</td></tr><tr><td class = \"rowNumber\" style = \"font-weight: bold; text-align: right;\">93</td><td style = \"text-align: right;\">93</td><td style = \"text-align: left;\">220045801</td></tr><tr><td class = \"rowNumber\" style = \"font-weight: bold; text-align: right;\">94</td><td style = \"text-align: right;\">94</td><td style = \"text-align: left;\">2130040501</td></tr><tr><td class = \"rowNumber\" style = \"font-weight: bold; text-align: right;\">95</td><td style = \"text-align: right;\">95</td><td style = \"text-align: left;\">2110040084</td></tr><tr><td class = \"rowNumber\" style = \"font-weight: bold; text-align: right;\">96</td><td style = \"text-align: right;\">96</td><td style = \"text-align: left;\">229900501</td></tr><tr><td class = \"rowNumber\" style = \"font-weight: bold; text-align: right;\">97</td><td style = \"text-align: right;\">97</td><td style = \"text-align: left;\">210045801</td></tr><tr><td class = \"rowNumber\" style = \"font-weight: bold; text-align: right;\">98</td><td style = \"text-align: right;\">98</td><td style = \"text-align: left;\">22900501</td></tr><tr><td class = \"rowNumber\" style = \"font-weight: bold; text-align: right;\">99</td><td style = \"text-align: right;\">99</td><td style = \"text-align: left;\">210043008</td></tr><tr><td class = \"rowNumber\" style = \"font-weight: bold; text-align: right;\">100</td><td style = \"text-align: right;\">100</td><td style = \"text-align: left;\">none</td></tr></tbody></table></div>"
      ],
      "text/latex": [
       "\\begin{tabular}{r|cc}\n",
       "\t& Level & Least\\_Exemplar\\\\\n",
       "\t\\hline\n",
       "\t& Int64 & Any\\\\\n",
       "\t\\hline\n",
       "\t1 & 1 & 2 \\\\\n",
       "\t2 & 2 & 1 \\\\\n",
       "\t3 & 3 & 81 \\\\\n",
       "\t4 & 4 & 51 \\\\\n",
       "\t5 & 5 & 531 \\\\\n",
       "\t6 & 6 & 5421 \\\\\n",
       "\t7 & 7 & 3157 \\\\\n",
       "\t8 & 8 & 2571 \\\\\n",
       "\t9 & 9 & 25517 \\\\\n",
       "\t10 & 10 & none \\\\\n",
       "\t11 & 11 & 25157 \\\\\n",
       "\t12 & 12 & 20531 \\\\\n",
       "\t13 & 13 & 26571 \\\\\n",
       "\t14 & 14 & 143053 \\\\\n",
       "\t15 & 15 & 15703 \\\\\n",
       "\t16 & 16 & 130305 \\\\\n",
       "\t17 & 17 & 140257 \\\\\n",
       "\t18 & 18 & 125703 \\\\\n",
       "\t19 & 19 & 105302 \\\\\n",
       "\t20 & 20 & none \\\\\n",
       "\t21 & 21 & 109027 \\\\\n",
       "\t22 & 22 & 91027 \\\\\n",
       "\t23 & 23 & 90271 \\\\\n",
       "\t24 & 24 & 102053 \\\\\n",
       "\t25 & 25 & 839031 \\\\\n",
       "\t26 & 26 & 7701303 \\\\\n",
       "\t27 & 27 & 7428017 \\\\\n",
       "\t28 & 28 & 7142859 \\\\\n",
       "\t29 & 29 & 701303 \\\\\n",
       "\t30 & 30 & none \\\\\n",
       "\t$\\dots$ & $\\dots$ & $\\dots$ \\\\\n",
       "\\end{tabular}\n"
      ],
      "text/plain": [
       "\u001b[1m100×2 DataFrame\u001b[0m\n",
       "\u001b[1m Row \u001b[0m│\u001b[1m Level \u001b[0m\u001b[1m Least_Exemplar \u001b[0m\n",
       "     │\u001b[90m Int64 \u001b[0m\u001b[90m Any            \u001b[0m\n",
       "─────┼───────────────────────\n",
       "   1 │     1  2\n",
       "   2 │     2  1\n",
       "   3 │     3  81\n",
       "   4 │     4  51\n",
       "   5 │     5  531\n",
       "   6 │     6  5421\n",
       "   7 │     7  3157\n",
       "   8 │     8  2571\n",
       "   9 │     9  25517\n",
       "  10 │    10  none\n",
       "  11 │    11  25157\n",
       "  ⋮  │   ⋮          ⋮\n",
       "  91 │    91  2200400915\n",
       "  92 │    92  240060301\n",
       "  93 │    93  220045801\n",
       "  94 │    94  2130040501\n",
       "  95 │    95  2110040084\n",
       "  96 │    96  229900501\n",
       "  97 │    97  210045801\n",
       "  98 │    98  22900501\n",
       "  99 │    99  210043008\n",
       " 100 │   100  none\n",
       "\u001b[36m              79 rows omitted\u001b[0m"
      ]
     },
     "execution_count": 18,
     "metadata": {},
     "output_type": "execute_result"
    }
   ],
   "source": [
    "df = DataFrame(Level = 1:100, Least_Exemplar = minat_array)"
   ]
  },
  {
   "cell_type": "code",
   "execution_count": 19,
   "metadata": {
    "scrolled": false
   },
   "outputs": [
    {
     "name": "stdout",
     "output_type": "stream",
     "text": [
      "┌───────┬────────────────┐\n",
      "│\u001b[1m Level \u001b[0m│\u001b[1m Least_Exemplar \u001b[0m│\n",
      "├───────┼────────────────┤\n",
      "│     1 │              2 │\n",
      "│     2 │              1 │\n",
      "│     3 │             81 │\n",
      "│     4 │             51 │\n",
      "│     5 │            531 │\n",
      "│     6 │           5421 │\n",
      "│     7 │           3157 │\n",
      "│     8 │           2571 │\n",
      "│     9 │          25517 │\n",
      "│    10 │           none │\n",
      "│    11 │          25157 │\n",
      "│    12 │          20531 │\n",
      "│    13 │          26571 │\n",
      "│    14 │         143053 │\n",
      "│    15 │          15703 │\n",
      "│    16 │         130305 │\n",
      "│    17 │         140257 │\n",
      "│    18 │         125703 │\n",
      "│    19 │         105302 │\n",
      "│    20 │           none │\n",
      "│    21 │         109027 │\n",
      "│    22 │          91027 │\n",
      "│    23 │          90271 │\n",
      "│    24 │         102053 │\n",
      "│    25 │         839031 │\n",
      "└───────┴────────────────┘\n",
      "┌───────┬────────────────┐\n",
      "│\u001b[1m Level \u001b[0m│\u001b[1m Least_Exemplar \u001b[0m│\n",
      "├───────┼────────────────┤\n",
      "│    26 │        7701303 │\n",
      "│    27 │        7428017 │\n",
      "│    28 │        7142859 │\n",
      "│    29 │         701303 │\n",
      "│    30 │           none │\n",
      "│    31 │        6516354 │\n",
      "│    32 │        6253014 │\n",
      "│    33 │        6253013 │\n",
      "│    34 │        5890103 │\n",
      "│    35 │        5780102 │\n",
      "│    36 │        5701027 │\n",
      "│    37 │        5420102 │\n",
      "│    38 │         540102 │\n",
      "│    39 │         530102 │\n",
      "│    40 │           none │\n",
      "│    41 │        5010268 │\n",
      "│    42 │        5240103 │\n",
      "│    43 │        5130103 │\n",
      "│    44 │        4550102 │\n",
      "│    45 │        4570102 │\n",
      "│    46 │        5010269 │\n",
      "│    47 │        5026901 │\n",
      "│    48 │       43008018 │\n",
      "│    49 │        4580102 │\n",
      "│    50 │           none │\n",
      "└───────┴────────────────┘\n",
      "┌───────┬────────────────┐\n",
      "│\u001b[1m Level \u001b[0m│\u001b[1m Least_Exemplar \u001b[0m│\n",
      "├───────┼────────────────┤\n",
      "│    51 │       40050102 │\n",
      "│    52 │       39005301 │\n",
      "│    53 │       39008631 │\n",
      "│    54 │       38008513 │\n",
      "│    55 │       37007018 │\n",
      "│    56 │       36513007 │\n",
      "│    57 │       35131007 │\n",
      "│    58 │       35007013 │\n",
      "│    59 │       50251301 │\n",
      "│    60 │           none │\n",
      "│    61 │      328007013 │\n",
      "│    62 │       40060201 │\n",
      "│    63 │      321006015 │\n",
      "│    64 │       32006013 │\n",
      "│    65 │       40050201 │\n",
      "│    66 │      303900501 │\n",
      "│    67 │       30200501 │\n",
      "│    68 │       30050102 │\n",
      "│    69 │       30050201 │\n",
      "│    70 │           none │\n",
      "│    71 │      290050102 │\n",
      "│    72 │      277890051 │\n",
      "│    73 │      274006012 │\n",
      "│    74 │      270900501 │\n",
      "│    75 │       30134006 │\n",
      "└───────┴────────────────┘\n",
      "┌───────┬────────────────┐\n",
      "│\u001b[1m Level \u001b[0m│\u001b[1m Least_Exemplar \u001b[0m│\n",
      "├───────┼────────────────┤\n",
      "│    76 │       26800501 │\n",
      "│    77 │      260050102 │\n",
      "│    78 │       30060134 │\n",
      "│    79 │      257700501 │\n",
      "│    80 │           none │\n",
      "│    81 │      250050102 │\n",
      "│    82 │      244005301 │\n",
      "│    83 │      241005401 │\n",
      "│    84 │      239005301 │\n",
      "│    85 │       24005401 │\n",
      "│    86 │      232900501 │\n",
      "│    87 │      231004009 │\n",
      "│    88 │      227900501 │\n",
      "│    89 │      229100501 │\n",
      "│    90 │           none │\n",
      "│    91 │     2200400915 │\n",
      "│    92 │      240060301 │\n",
      "│    93 │      220045801 │\n",
      "│    94 │     2130040501 │\n",
      "│    95 │     2110040084 │\n",
      "│    96 │      229900501 │\n",
      "│    97 │      210045801 │\n",
      "│    98 │       22900501 │\n",
      "│    99 │      210043008 │\n",
      "│   100 │           none │\n",
      "└───────┴────────────────┘\n"
     ]
    }
   ],
   "source": [
    "df1=@view(df[1:25, :])\n",
    "df2=@view(df[26:50, :])\n",
    "df3=@view(df[51:75, :])\n",
    "df4=@view(df[76:100, :])\n",
    "\n",
    "pretty_table(df1, nosubheader=true)\n",
    "pretty_table(df2, nosubheader=true)\n",
    "pretty_table(df3, nosubheader=true)\n",
    "pretty_table(df4, nosubheader=true)"
   ]
  },
  {
   "cell_type": "markdown",
   "metadata": {},
   "source": [
    "## Plot Least Exemplar as Function of Level"
   ]
  },
  {
   "cell_type": "code",
   "execution_count": 40,
   "metadata": {},
   "outputs": [
    {
     "data": {
      "text/plain": [
       "1:100"
      ]
     },
     "execution_count": 40,
     "metadata": {},
     "output_type": "execute_result"
    }
   ],
   "source": [
    "farray = replace(minat_array, \"none\" => 0) # convert minat_array to floats suitable for graphing\n",
    "y = convert(Array{Float64,1}, farray)\n",
    "y = log10.(y)\n",
    "y = replace(y, -Inf => missing)\n",
    "\n",
    "x = 1:100"
   ]
  },
  {
   "cell_type": "code",
   "execution_count": 41,
   "metadata": {},
   "outputs": [
    {
     "data": {
      "image/png": "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"
     },
     "metadata": {},
     "output_type": "display_data"
    }
   ],
   "source": [
    "using CairoMakie\n",
    "figure = CairoMakie.Figure(resolution = (800, 200))\n",
    "ax1 = figure[1, 1] = Axis(figure, xlabel = \"Level\", ylabel = \"log 10 (least examplar)\", xlabelsize = 12, ylabelsize=12, title=\" \")\n",
    "l1 = lines!(ax1, x, y)\n",
    "display(figure)"
   ]
  },
  {
   "cell_type": "code",
   "execution_count": null,
   "metadata": {},
   "outputs": [],
   "source": []
  }
 ],
 "metadata": {
  "kernelspec": {
   "display_name": "Julia 1.8.4",
   "language": "julia",
   "name": "julia-1.8"
  },
  "language_info": {
   "file_extension": ".jl",
   "mimetype": "application/julia",
   "name": "julia",
   "version": "1.8.4"
  }
 },
 "nbformat": 4,
 "nbformat_minor": 5
}
